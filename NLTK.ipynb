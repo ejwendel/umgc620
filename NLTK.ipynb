{
 "cells": [
  {
   "cell_type": "code",
   "execution_count": 1,
   "metadata": {},
   "outputs": [
    {
     "name": "stdout",
     "output_type": "stream",
     "text": [
      "Requirement already satisfied: nltk in /srv/conda/envs/notebook/lib/python3.6/site-packages (3.6.7)\n",
      "Requirement already satisfied: tqdm in /srv/conda/envs/notebook/lib/python3.6/site-packages (from nltk) (4.62.3)\n",
      "Requirement already satisfied: regex>=2021.8.3 in /srv/conda/envs/notebook/lib/python3.6/site-packages (from nltk) (2022.1.18)\n",
      "Requirement already satisfied: joblib in /srv/conda/envs/notebook/lib/python3.6/site-packages (from nltk) (1.1.0)\n",
      "Requirement already satisfied: click in /srv/conda/envs/notebook/lib/python3.6/site-packages (from nltk) (8.0.3)\n",
      "Requirement already satisfied: importlib-metadata in /srv/conda/envs/notebook/lib/python3.6/site-packages (from click->nltk) (4.8.1)\n",
      "Requirement already satisfied: typing-extensions>=3.6.4 in /srv/conda/envs/notebook/lib/python3.6/site-packages (from importlib-metadata->click->nltk) (4.0.1)\n",
      "Requirement already satisfied: zipp>=0.5 in /srv/conda/envs/notebook/lib/python3.6/site-packages (from importlib-metadata->click->nltk) (3.6.0)\n",
      "Requirement already satisfied: matplotlib in /srv/conda/envs/notebook/lib/python3.6/site-packages (3.3.4)\n",
      "Requirement already satisfied: pillow>=6.2.0 in /srv/conda/envs/notebook/lib/python3.6/site-packages (from matplotlib) (8.3.2)\n",
      "Requirement already satisfied: pyparsing!=2.0.4,!=2.1.2,!=2.1.6,>=2.0.3 in /srv/conda/envs/notebook/lib/python3.6/site-packages (from matplotlib) (3.0.6)\n",
      "Requirement already satisfied: kiwisolver>=1.0.1 in /srv/conda/envs/notebook/lib/python3.6/site-packages (from matplotlib) (1.3.1)\n",
      "Requirement already satisfied: numpy>=1.15 in /srv/conda/envs/notebook/lib/python3.6/site-packages (from matplotlib) (1.19.5)\n",
      "Requirement already satisfied: cycler>=0.10 in /srv/conda/envs/notebook/lib/python3.6/site-packages (from matplotlib) (0.11.0)\n",
      "Requirement already satisfied: python-dateutil>=2.1 in /srv/conda/envs/notebook/lib/python3.6/site-packages (from matplotlib) (2.8.2)\n",
      "Requirement already satisfied: six>=1.5 in /srv/conda/envs/notebook/lib/python3.6/site-packages (from python-dateutil>=2.1->matplotlib) (1.16.0)\n"
     ]
    },
    {
     "name": "stderr",
     "output_type": "stream",
     "text": [
      "[nltk_data] Downloading package stopwords to /home/jovyan/nltk_data...\n",
      "[nltk_data]   Package stopwords is already up-to-date!\n",
      "[nltk_data] Downloading package wordnet to /home/jovyan/nltk_data...\n",
      "[nltk_data]   Package wordnet is already up-to-date!\n",
      "[nltk_data] Downloading package omw-1.4 to /home/jovyan/nltk_data...\n",
      "[nltk_data]   Package omw-1.4 is already up-to-date!\n"
     ]
    },
    {
     "data": {
      "text/plain": [
       "True"
      ]
     },
     "execution_count": 1,
     "metadata": {},
     "output_type": "execute_result"
    }
   ],
   "source": [
    "#Here we install the nltk package onto the Try Jupyter environment. This needs to be run every time you load in the code.\n",
    "import sys\n",
    "!{sys.executable} -m pip install nltk\n",
    "!{sys.executable} -m pip install matplotlib\n",
    "\n",
    "import string\n",
    "import nltk #This is a bit redundant, but necessary for the Try Jupyter environment.\n",
    "import matplotlib.pyplot as plt\n",
    "from nltk.corpus import stopwords\n",
    "from nltk.stem.wordnet import WordNetLemmatizer\n",
    "nltk.download('stopwords')\n",
    "nltk.download('wordnet')\n",
    "nltk.download('omw-1.4')"
   ]
  },
  {
   "cell_type": "code",
   "execution_count": 2,
   "metadata": {},
   "outputs": [],
   "source": [
    "#Here we load in the file based on the filename.\n",
    "#If the filename doesn't exist, the program exits.\n",
    "\n",
    "#Change this line to whatever string you want.\n",
    "filename = '1997_LETTER.txt'\n",
    "\n",
    "try:\n",
    "    file = open(filename)\n",
    "except:\n",
    "    print('File cannot be opened: ', filename)"
   ]
  },
  {
   "cell_type": "code",
   "execution_count": 3,
   "metadata": {},
   "outputs": [],
   "source": [
    "#Here we load in the stopwords from the downloaded nltk stopwords list.\n",
    "lmtzr = WordNetLemmatizer()\n",
    "stop = stopwords.words('english')\n",
    "stop.append(\"•\")\n",
    "stop.append(\"amazoncom\")\n",
    "stop.append(\"1997\")"
   ]
  },
  {
   "cell_type": "code",
   "execution_count": 4,
   "metadata": {},
   "outputs": [],
   "source": [
    "#TODO: FILL IN THE FOLLOWING FUNCTIONS\n",
    "def sort_and_reverse(lst):\n",
    "    '''Given some list, we want to first sort it and then reverse it after. Here the order is important!\n",
    "    The code should be only one or two lines given the following two list functions:\n",
    "    https://www.w3schools.com/python/ref_list_sort.asp\n",
    "    https://www.programiz.com/python-programming/methods/list/reverse\n",
    "   \n",
    "    NOTE: These functions do not actually return another list, they instead modify the list being passed into our argument.\n",
    "    So we do not need to return anything for this function'''\n",
    "    \n",
    "    #SOLUTION GOES HERE\n",
    "  "
   ]
  },
  {
   "cell_type": "code",
   "execution_count": 5,
   "metadata": {},
   "outputs": [],
   "source": [
    "#This function graphs the words we choose onto a bar graph and adjusts the labels.\n",
    "def graph_words(wordlist, N):\n",
    "    words=[]\n",
    "    counts=[]\n",
    "    for x, word in wordlist[:N]:\n",
    "        words.append(word)\n",
    "        counts.append(x)\n",
    "    fig, ax = plt.subplots()\n",
    "    ax.bar(words, counts)\n",
    "    fig.autofmt_xdate()\n",
    "    plt.show()"
   ]
  },
  {
   "cell_type": "code",
   "execution_count": 6,
   "metadata": {},
   "outputs": [],
   "source": [
    "#Takes in the file, stopwords list, and number of important words and returns the most frequent words.\n",
    "def most_frequent_words(file, stop, N):  \n",
    "    #Here we create a dictionary, which we will assign a value to each word corresponding to the number of times this word appears.\n",
    "    counts = dict()\n",
    "\n",
    "    for line in file:\n",
    "        line = line.rstrip()\n",
    "        line = line.translate(line.maketrans('', '', string.punctuation))\n",
    "        line = line.lower()\n",
    "        words = line.split()\n",
    "\n",
    "        #Now processes the words list, and removes the stop words.\n",
    "        for word in words:\n",
    "            if word not in stop:\n",
    "                #Lemmatizing- we group similar word inflections together (e.g. rock and rocks becomes the same word)\n",
    "                word=lmtzr.lemmatize(word)\n",
    "                if word not in counts:\n",
    "                    counts[word] = 1\n",
    "                else:\n",
    "                    counts[word] += 1\n",
    "\n",
    "    #Puts the dictionary of counts into a list.\n",
    "    word_list = [(counts[w], w) for w in counts]\n",
    "    \n",
    "    #THIS IS WHERE WE CALL THE FUNCTION YOU WROTE. Sort and reverse the list.\n",
    "    sort_and_reverse(word_list)\n",
    "    \n",
    "    #Prints the table of most frequent words\n",
    "    print(\"The \" + str(N) + \" most frequent words are\")\n",
    "    print(\"Rank\\tCount\\tWord\")\n",
    "    i = 1\n",
    "    for x, word in word_list[:N]:\n",
    "        print('%2s\\t%4s\\t%s' %(i, x, word))\n",
    "        i += 1\n",
    "    \n",
    "    #Plot the words.\n",
    "    graph_words(word_list, N)"
   ]
  },
  {
   "cell_type": "code",
   "execution_count": 7,
   "metadata": {},
   "outputs": [
    {
     "name": "stdout",
     "output_type": "stream",
     "text": [
      "The 10 most frequent words are\n",
      "Rank\tCount\tWord\n",
      " 1\t   2\tlogo\n",
      " 2\t   1\tletter\n",
      " 3\t   5\tshareholder\n",
      " 4\t   1\treprinted\n",
      " 5\t   1\tannual\n",
      " 6\t   1\treport\n",
      " 7\t   1\tpassed\n",
      " 8\t   4\tmany\n",
      " 9\t   1\tmilestone\n",
      "10\t   3\tyearend\n"
     ]
    },
    {
     "data": {
      "image/png": "[encoded data removed]",
      "text/plain": [
       "<Figure size 432x288 with 1 Axes>"
      ]
     },
     "metadata": {
      "needs_background": "light"
     },
     "output_type": "display_data"
    }
   ],
   "source": [
    "#This fuction currently returns just the top 10 word. \n",
    "#You can fix the arguments you pass in to change the number of words this returns.\n",
    "most_frequent_words(file, stop, 10)"
   ]
  },
  {
   "cell_type": "code",
   "execution_count": null,
   "metadata": {},
   "outputs": [],
   "source": []
  }
 ],
 "metadata": {
  "kernelspec": {
   "display_name": "Python 3",
   "language": "python",
   "name": "python3"
  },
  "language_info": {
   "codemirror_mode": {
    "name": "ipython",
    "version": 3
   },
   "file_extension": ".py",
   "mimetype": "text/x-python",
   "name": "python",
   "nbconvert_exporter": "python",
   "pygments_lexer": "ipython3",
   "version": "3.6.15"
  }
 },
 "nbformat": 4,
 "nbformat_minor": 4
}
